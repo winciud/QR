{
 "cells": [
  {
   "cell_type": "code",
   "execution_count": 21,
   "metadata": {
    "ExecuteTime": {
     "end_time": "2022-07-05T01:26:44.244326Z",
     "start_time": "2022-07-05T01:26:44.236119Z"
    }
   },
   "outputs": [],
   "source": [
    "import numpy as np\n",
    "from qutip import * \n",
    "import scipy.optimize\n",
    "import matplotlib.pyplot as plt\n",
    "import seaborn as sns\n",
    "import pandas as pd\n",
    "from random import *"
   ]
  },
  {
   "cell_type": "code",
   "execution_count": 2,
   "metadata": {
    "ExecuteTime": {
     "end_time": "2022-07-05T01:17:18.242274Z",
     "start_time": "2022-07-05T01:17:18.238723Z"
    }
   },
   "outputs": [],
   "source": [
    "Pauli=[qeye(2),sigmax(),sigmay(),sigmaz()]\n",
    "\n",
    "def PTM(gate):\n",
    "\n",
    "    PTM=[]\n",
    "    for o in Pauli:\n",
    "        temp=[]\n",
    "        for i in Pauli:\n",
    "            temp.append(np.trace(o*gate(i))/2)\n",
    "        PTM.append(temp)\n",
    "\n",
    "    df=pd.DataFrame(np.real(PTM), columns=['I','X','Y','Z'], index=['I','X','Y','Z'])\n",
    "    \n",
    "    return df"
   ]
  },
  {
   "cell_type": "markdown",
   "metadata": {},
   "source": [
    "# Quantum teleportation"
   ]
  },
  {
   "cell_type": "code",
   "execution_count": 3,
   "metadata": {
    "ExecuteTime": {
     "end_time": "2022-07-05T01:17:18.259152Z",
     "start_time": "2022-07-05T01:17:18.250999Z"
    }
   },
   "outputs": [
    {
     "name": "stderr",
     "output_type": "stream",
     "text": [
      "<ipython-input-3-0f23f6e15190>:19: DeprecationWarning: Importing functions/classes of the qip submodule directly from the namespace qutip is deprecated. Please import them from the submodule instead, e.g.\n",
      "from qutip.qip.operations import cnot\n",
      "from qutip.qip.circuit import QubitCircuit\n",
      "\n",
      "  single_gates2= tensor(rx(np.pi/2),rx(np.pi/2))\n"
     ]
    }
   ],
   "source": [
    "# Bell measurement\n",
    "\n",
    "psi00=tensor(basis(2,0),basis(2,0))\n",
    "psi01=tensor(basis(2,0),basis(2,1))\n",
    "psi10=tensor(basis(2,1),basis(2,0))\n",
    "psi11=tensor(basis(2,1),basis(2,1))\n",
    "\n",
    "bell0 = (psi00 + psi11)/np.sqrt(2)\n",
    "bell1 = (psi00 - psi11)/np.sqrt(2)\n",
    "bell2 = (psi01 + psi10)/np.sqrt(2)\n",
    "bell3 = (psi01 - psi10)/np.sqrt(2)\n",
    "\n",
    "PBS00 = psi00*psi00.dag()\n",
    "PBS01 = psi01*psi01.dag()\n",
    "PBS10 = psi10*psi10.dag()\n",
    "PBS11 = psi11*psi11.dag()\n",
    "\n",
    "single_gates1= tensor(qeye(2),qeye(2))\n",
    "single_gates2= tensor(rx(np.pi/2),rx(np.pi/2))\n",
    "\n",
    "Ent_filter = psi00*psi00.dag()+psi11*psi11.dag()\n",
    "\n",
    "Fusion=single_gates2*Ent_filter*single_gates1"
   ]
  },
  {
   "cell_type": "code",
   "execution_count": 4,
   "metadata": {
    "ExecuteTime": {
     "end_time": "2022-07-05T01:17:18.407132Z",
     "start_time": "2022-07-05T01:17:18.269829Z"
    }
   },
   "outputs": [
    {
     "data": {
      "text/plain": [
       "<AxesSubplot:>"
      ]
     },
     "execution_count": 4,
     "metadata": {},
     "output_type": "execute_result"
    },
    {
     "data": {
      "image/png": "[encoded data removed]",
      "text/plain": [
       "<Figure size 432x288 with 2 Axes>"
      ]
     },
     "metadata": {
      "needs_background": "light"
     },
     "output_type": "display_data"
    }
   ],
   "source": [
    "# Quantum teleportation\n",
    "\n",
    "Bell_M00 = PBS00*Fusion\n",
    "Bell_M01 = PBS01*Fusion\n",
    "Bell_M10 = PBS10*Fusion\n",
    "Bell_M11 = PBS11*Fusion\n",
    "\n",
    "\n",
    "Bell_M = Bell_M01\n",
    "\n",
    "def Qteleportation(ini_state):\n",
    "    state_prep = tensor(ini_state, bell0*bell0.dag())\n",
    "    bell_meas = tensor(Bell_M,qeye(2))\n",
    "    tele_state=ptrace(bell_meas*state_prep*bell_meas.dag(),[2])\n",
    "    \n",
    "    return tele_state\n",
    "\n",
    "df=PTM(Qteleportation)\n",
    "sns.heatmap(df, annot=True, cmap='YlGnBu')\n"
   ]
  },
  {
   "cell_type": "markdown",
   "metadata": {},
   "source": [
    "# Pauli twirling"
   ]
  },
  {
   "cell_type": "code",
   "execution_count": 5,
   "metadata": {
    "ExecuteTime": {
     "end_time": "2022-07-05T01:17:18.483828Z",
     "start_time": "2022-07-05T01:17:18.424289Z"
    }
   },
   "outputs": [],
   "source": [
    "# Find Pauli twirling for Quantum teleportation\n",
    "\n",
    "Pauli_twirling=[]\n",
    "for a1 in range(4):\n",
    "    for a2 in range(4):\n",
    "        for b1 in range(4):\n",
    "            for b2 in range(4):\n",
    "                target=Fusion\n",
    "                test=tensor(Pauli[a1],Pauli[a2])*Fusion*tensor(Pauli[b1],Pauli[b2])\n",
    "                Infidelity = 1-np.abs((np.trace(target.dag() * test)))/2\n",
    "                \n",
    "                if Infidelity==0:\n",
    "                    Pauli_twirling.append([a1,a2,b1,b2])"
   ]
  },
  {
   "cell_type": "code",
   "execution_count": 6,
   "metadata": {
    "ExecuteTime": {
     "end_time": "2022-07-05T01:17:19.144755Z",
     "start_time": "2022-07-05T01:17:19.122066Z"
    }
   },
   "outputs": [],
   "source": [
    "class Qteleportation:\n",
    "    def __init__(self):\n",
    "        self.state = qzero(2)\n",
    "\n",
    "    def teleportation(self,pre_error,post_error):\n",
    "        \n",
    "        state_prep = tensor(self.state, bell0*bell0.dag())\n",
    "        \n",
    "        Bell_M1=PBS01*post_error*Fusion*pre_error\n",
    "        Bell_M2=PBS10*post_error*Fusion*pre_error\n",
    "\n",
    "        bell_meas1 = tensor(Bell_M1,qeye(2))\n",
    "        bell_meas2 = tensor(Bell_M2,qeye(2))\n",
    "\n",
    "        self.state = (ptrace(bell_meas1*state_prep*bell_meas1.dag(),[2])\n",
    "                      + ptrace(bell_meas2*state_prep*bell_meas2.dag(),[2]))/2\n",
    "\n",
    "    def teleportation_RC(self,pre_error,post_error):\n",
    "        \n",
    "        state_prep = tensor(self.state, bell0*bell0.dag())\n",
    "        temp = qzero(2)\n",
    "        \n",
    "        for k in range(len(Pauli_twirling)):\n",
    "            [a1,a2,b1,b2]=Pauli_twirling[k]\n",
    "        \n",
    "            Bell_M1 = PBS01*tensor(Pauli[a1],Pauli[a2])*post_error*Fusion*pre_error*tensor(Pauli[b1],Pauli[b2])\n",
    "            Bell_M2 = PBS10*tensor(Pauli[a1],Pauli[a2])*post_error*Fusion*pre_error*tensor(Pauli[b1],Pauli[b2])\n",
    "\n",
    "\n",
    "            bell_meas1 = tensor(Bell_M1,qeye(2))\n",
    "            bell_meas2 = tensor(Bell_M2,qeye(2))\n",
    "\n",
    "            temp = temp + (ptrace(bell_meas1*state_prep*bell_meas1.dag(),[2])\n",
    "                                       + ptrace(bell_meas2*state_prep*bell_meas2.dag(),[2]))/2\n",
    "        self.state = temp/len(Pauli_twirling)\n",
    "        \n",
    "    def teleportation_RC_v2(self,pre_error,post_error,twirl_comb):\n",
    "        \n",
    "        state_prep = tensor(self.state, bell0*bell0.dag())\n",
    "\n",
    "        [a1,a2,b1,b2]=Pauli_twirling[twirl_comb]\n",
    "\n",
    "        Bell_M1 = PBS01*tensor(Pauli[a1],Pauli[a2])*post_error*Fusion*pre_error*tensor(Pauli[b1],Pauli[b2])\n",
    "        Bell_M2 = PBS10*tensor(Pauli[a1],Pauli[a2])*post_error*Fusion*pre_error*tensor(Pauli[b1],Pauli[b2])\n",
    "\n",
    "\n",
    "        bell_meas1 = tensor(Bell_M1,qeye(2))\n",
    "        bell_meas2 = tensor(Bell_M2,qeye(2))\n",
    "\n",
    "        self.state = (ptrace(bell_meas1*state_prep*bell_meas1.dag(),[2])\n",
    "                                   + ptrace(bell_meas2*state_prep*bell_meas2.dag(),[2]))/2"
   ]
  },
  {
   "cell_type": "markdown",
   "metadata": {},
   "source": [
    "## Repeater without RC"
   ]
  },
  {
   "cell_type": "code",
   "execution_count": 29,
   "metadata": {
    "ExecuteTime": {
     "end_time": "2022-07-05T01:47:44.050034Z",
     "start_time": "2022-07-05T01:47:44.001423Z"
    }
   },
   "outputs": [
    {
     "name": "stderr",
     "output_type": "stream",
     "text": [
      "<ipython-input-29-889c9afb78ed>:4: DeprecationWarning: Importing functions/classes of the qip submodule directly from the namespace qutip is deprecated. Please import them from the submodule instead, e.g.\n",
      "from qutip.qip.operations import cnot\n",
      "from qutip.qip.circuit import QubitCircuit\n",
      "\n",
      "  pre_error_list = [tensor(rx(np.random.normal(loc=0.0, scale=3*np.pi/180)),ry(np.random.normal(loc=0.0, scale=3*np.pi/180))) for k in range(up_to)]\n",
      "<ipython-input-29-889c9afb78ed>:5: DeprecationWarning: Importing functions/classes of the qip submodule directly from the namespace qutip is deprecated. Please import them from the submodule instead, e.g.\n",
      "from qutip.qip.operations import cnot\n",
      "from qutip.qip.circuit import QubitCircuit\n",
      "\n",
      "  post_error_list = [tensor(rx(np.random.normal(loc=0.0, scale=3*np.pi/180)),ry(np.random.normal(loc=0.0, scale=3*np.pi/180))) for k in range(up_to)]\n"
     ]
    }
   ],
   "source": [
    "tele = Qteleportation()\n",
    "up_to = 20\n",
    "\n",
    "pre_error_list = [tensor(rx(np.random.normal(loc=0.0, scale=3*np.pi/180)),ry(np.random.normal(loc=0.0, scale=3*np.pi/180))) for k in range(up_to)]\n",
    "post_error_list = [tensor(rx(np.random.normal(loc=0.0, scale=3*np.pi/180)),ry(np.random.normal(loc=0.0, scale=3*np.pi/180))) for k in range(up_to)]"
   ]
  },
  {
   "cell_type": "code",
   "execution_count": 33,
   "metadata": {
    "ExecuteTime": {
     "end_time": "2022-07-05T01:50:45.956485Z",
     "start_time": "2022-07-05T01:50:42.160006Z"
    }
   },
   "outputs": [],
   "source": [
    "fid_list=[]\n",
    "\n",
    "for num in range(up_to):\n",
    "    PTM=[]\n",
    "    for o in Pauli:\n",
    "        temp=[]\n",
    "        for i in Pauli:    \n",
    "            tele.state = i\n",
    "            for k in range(num):\n",
    "                pre_error=pre_error_list[0]\n",
    "                post_error=post_error_list[0]\n",
    "                tele.teleportation(pre_error,post_error)\n",
    "                tele.state=tele.state*8\n",
    "            temp.append(np.trace(o*tele.state)/2)\n",
    "\n",
    "        PTM.append(temp)\n",
    "\n",
    "    df=pd.DataFrame(np.real(PTM), columns=['I','X','Y','Z'], index=['I','X','Y','Z'])\n",
    "    fid_list.append(np.trace(df/df['I']['I'])/4)"
   ]
  },
  {
   "cell_type": "code",
   "execution_count": 34,
   "metadata": {
    "ExecuteTime": {
     "end_time": "2022-07-05T01:50:46.050079Z",
     "start_time": "2022-07-05T01:50:45.982339Z"
    },
    "scrolled": false
   },
   "outputs": [
    {
     "data": {
      "text/plain": [
       "[<matplotlib.lines.Line2D at 0x7fc831206e80>]"
      ]
     },
     "execution_count": 34,
     "metadata": {},
     "output_type": "execute_result"
    },
    {
     "data": {
      "image/png": "[encoded data removed]",
      "text/plain": [
       "<Figure size 432x288 with 1 Axes>"
      ]
     },
     "metadata": {
      "needs_background": "light"
     },
     "output_type": "display_data"
    }
   ],
   "source": [
    "plt.plot(range(up_to),fid_list,'--o')\n"
   ]
  },
  {
   "cell_type": "code",
   "execution_count": 35,
   "metadata": {
    "ExecuteTime": {
     "end_time": "2022-07-05T01:50:46.080783Z",
     "start_time": "2022-07-05T01:50:46.075747Z"
    }
   },
   "outputs": [
    {
     "data": {
      "text/html": [
       "<div>\n",
       "<style scoped>\n",
       "    .dataframe tbody tr th:only-of-type {\n",
       "        vertical-align: middle;\n",
       "    }\n",
       "\n",
       "    .dataframe tbody tr th {\n",
       "        vertical-align: top;\n",
       "    }\n",
       "\n",
       "    .dataframe thead th {\n",
       "        text-align: right;\n",
       "    }\n",
       "</style>\n",
       "<table border=\"1\" class=\"dataframe\">\n",
       "  <thead>\n",
       "    <tr style=\"text-align: right;\">\n",
       "      <th></th>\n",
       "      <th>I</th>\n",
       "      <th>X</th>\n",
       "      <th>Y</th>\n",
       "      <th>Z</th>\n",
       "    </tr>\n",
       "  </thead>\n",
       "  <tbody>\n",
       "    <tr>\n",
       "      <th>I</th>\n",
       "      <td>1.0</td>\n",
       "      <td>0.000000</td>\n",
       "      <td>0.000000</td>\n",
       "      <td>0.000000</td>\n",
       "    </tr>\n",
       "    <tr>\n",
       "      <th>X</th>\n",
       "      <td>0.0</td>\n",
       "      <td>0.011077</td>\n",
       "      <td>0.933299</td>\n",
       "      <td>-0.357981</td>\n",
       "    </tr>\n",
       "    <tr>\n",
       "      <th>Y</th>\n",
       "      <td>0.0</td>\n",
       "      <td>-0.832485</td>\n",
       "      <td>-0.189553</td>\n",
       "      <td>-0.520033</td>\n",
       "    </tr>\n",
       "    <tr>\n",
       "      <th>Z</th>\n",
       "      <td>0.0</td>\n",
       "      <td>-0.553367</td>\n",
       "      <td>0.303944</td>\n",
       "      <td>0.775435</td>\n",
       "    </tr>\n",
       "  </tbody>\n",
       "</table>\n",
       "</div>"
      ],
      "text/plain": [
       "     I         X         Y         Z\n",
       "I  1.0  0.000000  0.000000  0.000000\n",
       "X  0.0  0.011077  0.933299 -0.357981\n",
       "Y  0.0 -0.832485 -0.189553 -0.520033\n",
       "Z  0.0 -0.553367  0.303944  0.775435"
      ]
     },
     "execution_count": 35,
     "metadata": {},
     "output_type": "execute_result"
    }
   ],
   "source": [
    "df"
   ]
  },
  {
   "cell_type": "markdown",
   "metadata": {},
   "source": [
    "## Repeater with RC"
   ]
  },
  {
   "cell_type": "code",
   "execution_count": 10,
   "metadata": {
    "ExecuteTime": {
     "end_time": "2022-07-05T01:18:36.763799Z",
     "start_time": "2022-07-05T01:17:26.570860Z"
    }
   },
   "outputs": [],
   "source": [
    "tele = Qteleportation()\n",
    "\n",
    "fid_list=[]\n",
    "up_to = 20\n",
    "\n",
    "for num in range(up_to):\n",
    "    PTM=[]\n",
    "    for o in Pauli:\n",
    "        temp=[]\n",
    "        for i in Pauli:    \n",
    "            tele.state = i\n",
    "            for k in range(num):\n",
    "                pre_error=pre_error_list[k]\n",
    "                post_error=post_error_list[k]\n",
    "                tele.teleportation_RC(pre_error,post_error)\n",
    "                tele.state=tele.state*8\n",
    "\n",
    "            temp.append(np.trace(o*tele.state)/2)\n",
    "\n",
    "        PTM.append(temp)\n",
    "\n",
    "    df=pd.DataFrame(np.real(PTM), columns=['I','X','Y','Z'], index=['I','X','Y','Z'])\n",
    "    fid_list.append(np.trace(df/df['I']['I'])/4)"
   ]
  },
  {
   "cell_type": "code",
   "execution_count": 11,
   "metadata": {
    "ExecuteTime": {
     "end_time": "2022-07-05T01:18:36.854790Z",
     "start_time": "2022-07-05T01:18:36.787585Z"
    }
   },
   "outputs": [
    {
     "data": {
      "text/plain": [
       "[<matplotlib.lines.Line2D at 0x7fc850384670>]"
      ]
     },
     "execution_count": 11,
     "metadata": {},
     "output_type": "execute_result"
    },
    {
     "data": {
      "image/png": "[encoded data removed]",
      "text/plain": [
       "<Figure size 432x288 with 1 Axes>"
      ]
     },
     "metadata": {
      "needs_background": "light"
     },
     "output_type": "display_data"
    }
   ],
   "source": [
    "plt.plot(range(up_to),fid_list,'--o')"
   ]
  },
  {
   "cell_type": "code",
   "execution_count": 12,
   "metadata": {
    "ExecuteTime": {
     "end_time": "2022-07-05T01:18:36.886117Z",
     "start_time": "2022-07-05T01:18:36.879341Z"
    }
   },
   "outputs": [
    {
     "data": {
      "text/html": [
       "<div>\n",
       "<style scoped>\n",
       "    .dataframe tbody tr th:only-of-type {\n",
       "        vertical-align: middle;\n",
       "    }\n",
       "\n",
       "    .dataframe tbody tr th {\n",
       "        vertical-align: top;\n",
       "    }\n",
       "\n",
       "    .dataframe thead th {\n",
       "        text-align: right;\n",
       "    }\n",
       "</style>\n",
       "<table border=\"1\" class=\"dataframe\">\n",
       "  <thead>\n",
       "    <tr style=\"text-align: right;\">\n",
       "      <th></th>\n",
       "      <th>I</th>\n",
       "      <th>X</th>\n",
       "      <th>Y</th>\n",
       "      <th>Z</th>\n",
       "    </tr>\n",
       "  </thead>\n",
       "  <tbody>\n",
       "    <tr>\n",
       "      <th>I</th>\n",
       "      <td>1.0</td>\n",
       "      <td>0.000000</td>\n",
       "      <td>0.000000</td>\n",
       "      <td>0.000000</td>\n",
       "    </tr>\n",
       "    <tr>\n",
       "      <th>X</th>\n",
       "      <td>0.0</td>\n",
       "      <td>0.918563</td>\n",
       "      <td>0.000000</td>\n",
       "      <td>0.000000</td>\n",
       "    </tr>\n",
       "    <tr>\n",
       "      <th>Y</th>\n",
       "      <td>0.0</td>\n",
       "      <td>0.000000</td>\n",
       "      <td>0.900718</td>\n",
       "      <td>0.000000</td>\n",
       "    </tr>\n",
       "    <tr>\n",
       "      <th>Z</th>\n",
       "      <td>0.0</td>\n",
       "      <td>0.000000</td>\n",
       "      <td>0.000000</td>\n",
       "      <td>0.948893</td>\n",
       "    </tr>\n",
       "  </tbody>\n",
       "</table>\n",
       "</div>"
      ],
      "text/plain": [
       "     I         X         Y         Z\n",
       "I  1.0  0.000000  0.000000  0.000000\n",
       "X  0.0  0.918563  0.000000  0.000000\n",
       "Y  0.0  0.000000  0.900718  0.000000\n",
       "Z  0.0  0.000000  0.000000  0.948893"
      ]
     },
     "execution_count": 12,
     "metadata": {},
     "output_type": "execute_result"
    }
   ],
   "source": [
    "df"
   ]
  },
  {
   "cell_type": "code",
   "execution_count": 13,
   "metadata": {
    "ExecuteTime": {
     "end_time": "2022-07-05T01:19:45.603491Z",
     "start_time": "2022-07-05T01:18:36.909965Z"
    }
   },
   "outputs": [],
   "source": [
    "tele = Qteleportation()\n",
    "\n",
    "fid_list=[]\n",
    "up_to = 20\n",
    "num_rcircuits=15\n",
    "\n",
    "twirling_combination=[]\n",
    "arr=np.arange(len(Pauli_twirling))\n",
    "\n",
    "for k in range(up_to):\n",
    "    twirling_combination.append(np.random.choice(arr,num_rcircuits,replace=False))\n",
    "twirling_combination=np.array(twirling_combination)\n",
    "\n",
    "\n",
    "for num in range(up_to):\n",
    "    PTM=[]\n",
    "    for o in Pauli:\n",
    "        \n",
    "        temp_list=[]\n",
    "        for num_c in range(num_rcircuits):\n",
    "            temp=[]\n",
    "            for i in Pauli:    \n",
    "                tele.state = i\n",
    "                for k in range(num):\n",
    "                    pre_error=pre_error_list[k]\n",
    "                    post_error=post_error_list[k]\n",
    "                    tele.teleportation_RC_v2(pre_error,post_error,twirling_combination[k,num_c])\n",
    "                    tele.state=tele.state*8\n",
    "\n",
    "                temp.append(np.trace(o*tele.state)/2)\n",
    "            temp_list.append(temp)\n",
    "            \n",
    "        PTM.append(np.mean(temp_list,axis=0))\n",
    "\n",
    "    df=pd.DataFrame(np.real(PTM), columns=['I','X','Y','Z'], index=['I','X','Y','Z'])\n",
    "    fid_list.append(np.trace(df/df['I']['I'])/4)"
   ]
  },
  {
   "cell_type": "code",
   "execution_count": 14,
   "metadata": {
    "ExecuteTime": {
     "end_time": "2022-07-05T01:19:45.694902Z",
     "start_time": "2022-07-05T01:19:45.629332Z"
    }
   },
   "outputs": [
    {
     "data": {
      "text/plain": [
       "[<matplotlib.lines.Line2D at 0x7fc8425b5820>]"
      ]
     },
     "execution_count": 14,
     "metadata": {},
     "output_type": "execute_result"
    },
    {
     "data": {
      "image/png": "[encoded data removed]",
      "text/plain": [
       "<Figure size 432x288 with 1 Axes>"
      ]
     },
     "metadata": {
      "needs_background": "light"
     },
     "output_type": "display_data"
    }
   ],
   "source": [
    "plt.plot(range(up_to),fid_list,'--o')"
   ]
  },
  {
   "cell_type": "code",
   "execution_count": 15,
   "metadata": {
    "ExecuteTime": {
     "end_time": "2022-07-05T01:19:45.725235Z",
     "start_time": "2022-07-05T01:19:45.720405Z"
    }
   },
   "outputs": [
    {
     "data": {
      "text/html": [
       "<div>\n",
       "<style scoped>\n",
       "    .dataframe tbody tr th:only-of-type {\n",
       "        vertical-align: middle;\n",
       "    }\n",
       "\n",
       "    .dataframe tbody tr th {\n",
       "        vertical-align: top;\n",
       "    }\n",
       "\n",
       "    .dataframe thead th {\n",
       "        text-align: right;\n",
       "    }\n",
       "</style>\n",
       "<table border=\"1\" class=\"dataframe\">\n",
       "  <thead>\n",
       "    <tr style=\"text-align: right;\">\n",
       "      <th></th>\n",
       "      <th>I</th>\n",
       "      <th>X</th>\n",
       "      <th>Y</th>\n",
       "      <th>Z</th>\n",
       "    </tr>\n",
       "  </thead>\n",
       "  <tbody>\n",
       "    <tr>\n",
       "      <th>I</th>\n",
       "      <td>1.0</td>\n",
       "      <td>0.000000</td>\n",
       "      <td>0.000000</td>\n",
       "      <td>0.000000</td>\n",
       "    </tr>\n",
       "    <tr>\n",
       "      <th>X</th>\n",
       "      <td>0.0</td>\n",
       "      <td>0.899158</td>\n",
       "      <td>0.002000</td>\n",
       "      <td>0.018580</td>\n",
       "    </tr>\n",
       "    <tr>\n",
       "      <th>Y</th>\n",
       "      <td>0.0</td>\n",
       "      <td>-0.005567</td>\n",
       "      <td>0.890186</td>\n",
       "      <td>-0.031791</td>\n",
       "    </tr>\n",
       "    <tr>\n",
       "      <th>Z</th>\n",
       "      <td>0.0</td>\n",
       "      <td>-0.020315</td>\n",
       "      <td>0.015714</td>\n",
       "      <td>0.952820</td>\n",
       "    </tr>\n",
       "  </tbody>\n",
       "</table>\n",
       "</div>"
      ],
      "text/plain": [
       "     I         X         Y         Z\n",
       "I  1.0  0.000000  0.000000  0.000000\n",
       "X  0.0  0.899158  0.002000  0.018580\n",
       "Y  0.0 -0.005567  0.890186 -0.031791\n",
       "Z  0.0 -0.020315  0.015714  0.952820"
      ]
     },
     "execution_count": 15,
     "metadata": {},
     "output_type": "execute_result"
    }
   ],
   "source": [
    "df"
   ]
  },
  {
   "cell_type": "code",
   "execution_count": 16,
   "metadata": {
    "ExecuteTime": {
     "end_time": "2022-07-05T01:20:08.987749Z",
     "start_time": "2022-07-05T01:19:45.749823Z"
    }
   },
   "outputs": [],
   "source": [
    "tele = Qteleportation()\n",
    "\n",
    "fid_list=[]\n",
    "up_to = 20\n",
    "num_rcircuits=5\n",
    "\n",
    "twirling_combination=[]\n",
    "arr=np.arange(len(Pauli_twirling))\n",
    "\n",
    "for k in range(up_to):\n",
    "    twirling_combination.append(np.random.choice(arr,num_rcircuits,replace=True))\n",
    "twirling_combination=np.array(twirling_combination)\n",
    "\n",
    "\n",
    "for num in range(up_to):\n",
    "    PTM=[]\n",
    "    for o in Pauli:\n",
    "        \n",
    "        temp_list=[]\n",
    "        for num_c in range(num_rcircuits):\n",
    "            temp=[]\n",
    "            for i in Pauli:    \n",
    "                tele.state = i\n",
    "                for k in range(num):\n",
    "                    pre_error=pre_error_list[k]\n",
    "                    post_error=post_error_list[k]\n",
    "                    tele.teleportation_RC_v2(pre_error,post_error,twirling_combination[k,num_c])\n",
    "                    tele.state=tele.state*8\n",
    "\n",
    "                temp.append(np.trace(o*tele.state)/2)\n",
    "            temp_list.append(temp)\n",
    "            \n",
    "        PTM.append(np.mean(temp_list,axis=0))\n",
    "\n",
    "    df=pd.DataFrame(np.real(PTM), columns=['I','X','Y','Z'], index=['I','X','Y','Z'])\n",
    "    fid_list.append(np.trace(df/df['I']['I'])/4)"
   ]
  },
  {
   "cell_type": "code",
   "execution_count": 17,
   "metadata": {
    "ExecuteTime": {
     "end_time": "2022-07-05T01:20:09.080117Z",
     "start_time": "2022-07-05T01:20:09.011952Z"
    }
   },
   "outputs": [
    {
     "data": {
      "text/plain": [
       "[<matplotlib.lines.Line2D at 0x7fc8425ea7c0>]"
      ]
     },
     "execution_count": 17,
     "metadata": {},
     "output_type": "execute_result"
    },
    {
     "data": {
      "image/png": "[encoded data removed]",
      "text/plain": [
       "<Figure size 432x288 with 1 Axes>"
      ]
     },
     "metadata": {
      "needs_background": "light"
     },
     "output_type": "display_data"
    }
   ],
   "source": [
    "plt.plot(range(up_to),fid_list,'--o')"
   ]
  },
  {
   "cell_type": "code",
   "execution_count": 18,
   "metadata": {
    "ExecuteTime": {
     "end_time": "2022-07-05T01:20:09.110936Z",
     "start_time": "2022-07-05T01:20:09.106110Z"
    }
   },
   "outputs": [
    {
     "data": {
      "text/html": [
       "<div>\n",
       "<style scoped>\n",
       "    .dataframe tbody tr th:only-of-type {\n",
       "        vertical-align: middle;\n",
       "    }\n",
       "\n",
       "    .dataframe tbody tr th {\n",
       "        vertical-align: top;\n",
       "    }\n",
       "\n",
       "    .dataframe thead th {\n",
       "        text-align: right;\n",
       "    }\n",
       "</style>\n",
       "<table border=\"1\" class=\"dataframe\">\n",
       "  <thead>\n",
       "    <tr style=\"text-align: right;\">\n",
       "      <th></th>\n",
       "      <th>I</th>\n",
       "      <th>X</th>\n",
       "      <th>Y</th>\n",
       "      <th>Z</th>\n",
       "    </tr>\n",
       "  </thead>\n",
       "  <tbody>\n",
       "    <tr>\n",
       "      <th>I</th>\n",
       "      <td>1.0</td>\n",
       "      <td>0.000000</td>\n",
       "      <td>0.000000</td>\n",
       "      <td>0.000000</td>\n",
       "    </tr>\n",
       "    <tr>\n",
       "      <th>X</th>\n",
       "      <td>0.0</td>\n",
       "      <td>0.912370</td>\n",
       "      <td>0.124240</td>\n",
       "      <td>0.052408</td>\n",
       "    </tr>\n",
       "    <tr>\n",
       "      <th>Y</th>\n",
       "      <td>0.0</td>\n",
       "      <td>-0.107425</td>\n",
       "      <td>0.911927</td>\n",
       "      <td>0.030828</td>\n",
       "    </tr>\n",
       "    <tr>\n",
       "      <th>Z</th>\n",
       "      <td>0.0</td>\n",
       "      <td>-0.061098</td>\n",
       "      <td>-0.043702</td>\n",
       "      <td>0.964375</td>\n",
       "    </tr>\n",
       "  </tbody>\n",
       "</table>\n",
       "</div>"
      ],
      "text/plain": [
       "     I         X         Y         Z\n",
       "I  1.0  0.000000  0.000000  0.000000\n",
       "X  0.0  0.912370  0.124240  0.052408\n",
       "Y  0.0 -0.107425  0.911927  0.030828\n",
       "Z  0.0 -0.061098 -0.043702  0.964375"
      ]
     },
     "execution_count": 18,
     "metadata": {},
     "output_type": "execute_result"
    }
   ],
   "source": [
    "df"
   ]
  },
  {
   "cell_type": "code",
   "execution_count": null,
   "metadata": {},
   "outputs": [],
   "source": []
  }
 ],
 "metadata": {
  "kernelspec": {
   "display_name": "Python 3",
   "language": "python",
   "name": "python3"
  },
  "language_info": {
   "codemirror_mode": {
    "name": "ipython",
    "version": 3
   },
   "file_extension": ".py",
   "mimetype": "text/x-python",
   "name": "python",
   "nbconvert_exporter": "python",
   "pygments_lexer": "ipython3",
   "version": "3.8.5"
  },
  "toc": {
   "base_numbering": 1,
   "nav_menu": {},
   "number_sections": true,
   "sideBar": true,
   "skip_h1_title": false,
   "title_cell": "Table of Contents",
   "title_sidebar": "Contents",
   "toc_cell": false,
   "toc_position": {},
   "toc_section_display": true,
   "toc_window_display": true
  },
  "varInspector": {
   "cols": {
    "lenName": 16,
    "lenType": 16,
    "lenVar": 40
   },
   "kernels_config": {
    "python": {
     "delete_cmd_postfix": "",
     "delete_cmd_prefix": "del ",
     "library": "var_list.py",
     "varRefreshCmd": "print(var_dic_list())"
    },
    "r": {
     "delete_cmd_postfix": ") ",
     "delete_cmd_prefix": "rm(",
     "library": "var_list.r",
     "varRefreshCmd": "cat(var_dic_list()) "
    }
   },
   "types_to_exclude": [
    "module",
    "function",
    "builtin_function_or_method",
    "instance",
    "_Feature"
   ],
   "window_display": false
  }
 },
 "nbformat": 4,
 "nbformat_minor": 4
}
